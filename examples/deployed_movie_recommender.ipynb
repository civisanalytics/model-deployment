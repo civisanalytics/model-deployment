{
 "cells": [
  {
   "cell_type": "markdown",
   "metadata": {},
   "source": [
    "# Non-CivisML Model Deployment\n",
    "\n",
    "Thanks to the flexible nature of Civis's `/services` endpoint, we can deploy much more than just CivisML models. In fact, more or less any app that lives in a Docker container and serves requests can be deployed via Civis Platform. \n",
    "\n",
    "As an example of a non-CivisML deployed model, here we will train a neural network to create movie recommendations using the free \"MovieLens\" movie rating data. This model is just for demonstration purposes and not at well tuned, but hopefully it will provide inspiration for users to write their own apps and deploy them on Civis Platform. The code that generated the Docker image that we use below (\"civisanalytics/docker-scratch:muffnn_recommender-v0.0.6\") can be found [here](https://github.com/civisanalytics/model-deployment/tree/muffnn_recommendation_engine). For now, a pre-built image is only accessible through Civis's private Dockerhub account, but users without access to Civis's Dockerhub can build the image themselves from the above-linked repository. "
   ]
  },
  {
   "cell_type": "code",
   "execution_count": 1,
   "metadata": {
    "collapsed": false
   },
   "outputs": [
    {
     "name": "stderr",
     "output_type": "stream",
     "text": [
      "/Users/kcrum/miniconda3/lib/python3.5/importlib/_bootstrap.py:222: RuntimeWarning: compiletime version 3.6 of module 'tensorflow.python.framework.fast_tensor_util' does not match runtime version 3.5\n",
      "  return f(*args, **kwds)\n"
     ]
    }
   ],
   "source": [
    "from io import BytesIO, StringIO\n",
    "import pickle\n",
    "from zipfile import ZipFile\n",
    "\n",
    "import civis  # Must be version 1.8.X\n",
    "from muffnn import MLPRegressor\n",
    "import numpy as np\n",
    "import pandas as pd\n",
    "import requests\n",
    "from scipy import sparse"
   ]
  },
  {
   "cell_type": "markdown",
   "metadata": {},
   "source": [
    "# Let's build a movie recommendation engine\n",
    "\n",
    "We'll use the small MovieLens set to train an MLP. Let's get the data..."
   ]
  },
  {
   "cell_type": "code",
   "execution_count": 2,
   "metadata": {
    "collapsed": true
   },
   "outputs": [],
   "source": [
    "url = 'http://files.grouplens.org/datasets/movielens/ml-latest-small.zip'"
   ]
  },
  {
   "cell_type": "code",
   "execution_count": 3,
   "metadata": {
    "collapsed": true
   },
   "outputs": [],
   "source": [
    "response = requests.get(url)\n",
    "\n",
    "with ZipFile(BytesIO(response.content)) as zfile:\n",
    "    ratings = pd.read_csv(BytesIO(zfile.read('ml-latest-small/ratings.csv')))"
   ]
  },
  {
   "cell_type": "code",
   "execution_count": 4,
   "metadata": {
    "collapsed": false
   },
   "outputs": [
    {
     "name": "stdout",
     "output_type": "stream",
     "text": [
      "(100004, 4)\n"
     ]
    },
    {
     "data": {
      "text/html": [
       "<div>\n",
       "<style>\n",
       "    .dataframe thead tr:only-child th {\n",
       "        text-align: right;\n",
       "    }\n",
       "\n",
       "    .dataframe thead th {\n",
       "        text-align: left;\n",
       "    }\n",
       "\n",
       "    .dataframe tbody tr th {\n",
       "        vertical-align: top;\n",
       "    }\n",
       "</style>\n",
       "<table border=\"1\" class=\"dataframe\">\n",
       "  <thead>\n",
       "    <tr style=\"text-align: right;\">\n",
       "      <th></th>\n",
       "      <th>userId</th>\n",
       "      <th>movieId</th>\n",
       "      <th>rating</th>\n",
       "      <th>timestamp</th>\n",
       "    </tr>\n",
       "  </thead>\n",
       "  <tbody>\n",
       "    <tr>\n",
       "      <th>0</th>\n",
       "      <td>1</td>\n",
       "      <td>31</td>\n",
       "      <td>2.5</td>\n",
       "      <td>1260759144</td>\n",
       "    </tr>\n",
       "    <tr>\n",
       "      <th>1</th>\n",
       "      <td>1</td>\n",
       "      <td>1029</td>\n",
       "      <td>3.0</td>\n",
       "      <td>1260759179</td>\n",
       "    </tr>\n",
       "    <tr>\n",
       "      <th>2</th>\n",
       "      <td>1</td>\n",
       "      <td>1061</td>\n",
       "      <td>3.0</td>\n",
       "      <td>1260759182</td>\n",
       "    </tr>\n",
       "    <tr>\n",
       "      <th>3</th>\n",
       "      <td>1</td>\n",
       "      <td>1129</td>\n",
       "      <td>2.0</td>\n",
       "      <td>1260759185</td>\n",
       "    </tr>\n",
       "    <tr>\n",
       "      <th>4</th>\n",
       "      <td>1</td>\n",
       "      <td>1172</td>\n",
       "      <td>4.0</td>\n",
       "      <td>1260759205</td>\n",
       "    </tr>\n",
       "  </tbody>\n",
       "</table>\n",
       "</div>"
      ],
      "text/plain": [
       "   userId  movieId  rating   timestamp\n",
       "0       1       31     2.5  1260759144\n",
       "1       1     1029     3.0  1260759179\n",
       "2       1     1061     3.0  1260759182\n",
       "3       1     1129     2.0  1260759185\n",
       "4       1     1172     4.0  1260759205"
      ]
     },
     "execution_count": 4,
     "metadata": {},
     "output_type": "execute_result"
    }
   ],
   "source": [
    "print(ratings.shape)\n",
    "ratings.head()"
   ]
  },
  {
   "cell_type": "markdown",
   "metadata": {},
   "source": [
    "## Reshape the data into a wide, sparse format for training"
   ]
  },
  {
   "cell_type": "code",
   "execution_count": 5,
   "metadata": {
    "collapsed": true
   },
   "outputs": [],
   "source": [
    "# This cell requires a decent amount of memory. It also takes about a minute to run.\n",
    "ymlp = ratings['rating']\n",
    "xmlp = pd.get_dummies(ratings.drop(['rating', 'timestamp'], axis=1), columns=['userId', 'movieId'])\n",
    "\n",
    "xtrain = sparse.csr_matrix(xmlp.values)\n",
    "ytrain = ymlp.values"
   ]
  },
  {
   "cell_type": "code",
   "execution_count": 6,
   "metadata": {
    "collapsed": false
   },
   "outputs": [
    {
     "data": {
      "text/plain": [
       "(100004, 9737)"
      ]
     },
     "execution_count": 6,
     "metadata": {},
     "output_type": "execute_result"
    }
   ],
   "source": [
    "xtrain.shape"
   ]
  },
  {
   "cell_type": "markdown",
   "metadata": {},
   "source": [
    "## Build the model\n",
    "\n",
    "We'll make a simple MLP regressor to predict movie ratings. This model has not been meaningfully tuned, but it will do for the sake of providing an example recommendation engine."
   ]
  },
  {
   "cell_type": "code",
   "execution_count": 7,
   "metadata": {
    "collapsed": false
   },
   "outputs": [
    {
     "name": "stdout",
     "output_type": "stream",
     "text": [
      "WARNING:tensorflow:From /Users/kcrum/miniconda3/lib/python3.5/site-packages/tensorflow/contrib/learn/python/learn/datasets/base.py:198: retry (from tensorflow.contrib.learn.python.learn.datasets.base) is deprecated and will be removed in a future version.\n",
      "Instructions for updating:\n",
      "Use the retry module or similar alternatives.\n"
     ]
    },
    {
     "data": {
      "text/plain": [
       "MLPRegressor(activation=<function relu at 0x1168a88c8>, batch_size=200,\n",
       "       hidden_units=[200], keep_prob=0.6, n_epochs=20,\n",
       "       random_state=<mtrand.RandomState object at 0x1182360d8>,\n",
       "       solver=<class 'tensorflow.python.training.adam.AdamOptimizer'>,\n",
       "       solver_kwargs=None, transform_layer_index=None)"
      ]
     },
     "execution_count": 7,
     "metadata": {},
     "output_type": "execute_result"
    }
   ],
   "source": [
    "mlp = MLPRegressor(\n",
    "    hidden_units=[200],\n",
    "    n_epochs=20,\n",
    "    keep_prob=0.6,\n",
    "    batch_size=200,\n",
    "    random_state=np.random.RandomState(3)\n",
    ")\n",
    "# Training takes about a minute\n",
    "mlp.fit(xtrain, ytrain)"
   ]
  },
  {
   "cell_type": "markdown",
   "metadata": {},
   "source": [
    "## Save the model and user-item columns.\n",
    "\n",
    "In order to deploy our model, we'll save it to the Civis /files endpoint. \n",
    "\n",
    "Additionally, we'll save the list of columns in the wide training data. This will enable us to reconstruct the shape of the sparse input data expected from our model."
   ]
  },
  {
   "cell_type": "code",
   "execution_count": 8,
   "metadata": {
    "collapsed": false
   },
   "outputs": [
    {
     "name": "stdout",
     "output_type": "stream",
     "text": [
      "Model file ID:  11843062\n"
     ]
    }
   ],
   "source": [
    "with BytesIO() as bts:\n",
    "    pickle.dump(mlp, bts)\n",
    "\n",
    "    bts.seek(0)\n",
    "    model_file_id = civis.io.file_to_civis(bts, 'movie_mlp.pkl', expires_at=None)\n",
    "\n",
    "    print(\"Model file ID: \", model_file_id)"
   ]
  },
  {
   "cell_type": "code",
   "execution_count": 9,
   "metadata": {
    "collapsed": false
   },
   "outputs": [
    {
     "name": "stdout",
     "output_type": "stream",
     "text": [
      "Column list file ID:  11843063\n"
     ]
    }
   ],
   "source": [
    "with StringIO() as sio:\n",
    "    # Write comma-separated column list to StringIO\n",
    "    sio.write(','.join(xmlp.columns))\n",
    "\n",
    "    sio.seek(0)\n",
    "    user_item_columns_file_id = civis.io.file_to_civis(sio, 'columns.txt', expires_at=None)\n",
    "\n",
    "    print(\"Column list file ID: \", user_item_columns_file_id)"
   ]
  },
  {
   "cell_type": "markdown",
   "metadata": {},
   "source": [
    "## Deploy the model\n",
    "\n",
    "To deploy a recommendation engine, we'll make the same sequence of API calls we made to deploy a standard CivisML model. However due to the data transformations necessary to build the sparse input matrix and create the ranked recommendations, we need to pass a few more environment variables. These contain the metadata required to generate the sparse input matrix. "
   ]
  },
  {
   "cell_type": "code",
   "execution_count": 10,
   "metadata": {
    "collapsed": true
   },
   "outputs": [],
   "source": [
    "client = civis.APIClient(resources='all')\n",
    "\n",
    "resp = client.services.post(\n",
    "        name='deployed_recommender', \n",
    "        docker_image_name=\"civisanalytics/docker-scratch\", \n",
    "        docker_image_tag=\"muffnn_recommender-v0.0.6\", \n",
    "        cpu=1000,\n",
    "        memory=8000, \n",
    "        environment_variables={'DEBUG': 1, 'MODEL_FILE_ID': model_file_id, \n",
    "                               'USER_ITEM_COLUMNS_FILE_ID': user_item_columns_file_id, \n",
    "                               'USER_PREFIX': 'userId_', 'ITEM_PREFIX': 'movieId_'})"
   ]
  },
  {
   "cell_type": "markdown",
   "metadata": {},
   "source": [
    "Once we have created our service, we can start the deployment with the following API call:"
   ]
  },
  {
   "cell_type": "code",
   "execution_count": 11,
   "metadata": {
    "collapsed": true
   },
   "outputs": [],
   "source": [
    "_ = client.services.post_deployments(resp['id'])"
   ]
  },
  {
   "cell_type": "markdown",
   "metadata": {},
   "source": [
    "## Let's get some recommendations!\n",
    "\n",
    "As usual, we'll want to grab our URL and create an access token. "
   ]
  },
  {
   "cell_type": "code",
   "execution_count": 12,
   "metadata": {
    "collapsed": false
   },
   "outputs": [
    {
     "name": "stdout",
     "output_type": "stream",
     "text": [
      "URL:  https://services--820--385354fc66b183092033d480--civis.shiny.services.civis.io\n",
      "Token:  {'created_at': '2018-04-27T15:55:53.000Z', 'token': '5u4oPlI7BXoOrN-7DxESvI8Su1Y6ZtHqgyABmyH_qUr4sVhaIq1LZlEvgLMRg7q7dTYMs98HCfFnrDzyAk_E', 'name': 'my_token', 'id': 111}\n"
     ]
    }
   ],
   "source": [
    "url = client.services.get(resp['id'])['current_url']\n",
    "print(\"URL: \", url)\n",
    "\n",
    "token_resp = client.services.post_tokens(resp['id'], 'my_token')\n",
    "print(\"Token: \", token_resp)"
   ]
  },
  {
   "cell_type": "markdown",
   "metadata": {},
   "source": [
    "Our deployed recommender will take a user ID as its input, and output one recommendation by default. "
   ]
  },
  {
   "cell_type": "code",
   "execution_count": 13,
   "metadata": {
    "collapsed": false
   },
   "outputs": [
    {
     "name": "stdout",
     "output_type": "stream",
     "text": [
      "{\n",
      "  \"item\": [\n",
      "    \"movieId_3030\"\n",
      "  ], \n",
      "  \"rating\": [\n",
      "    4.865910053253174\n",
      "  ]\n",
      "}\n",
      "\n"
     ]
    }
   ],
   "source": [
    "import requests\n",
    "\n",
    "# Put the token in the header of the HTTP call\n",
    "headers = {\"Authorization\": \"Bearer {}\".format(token_resp['token'])}\n",
    "\n",
    "pred_url = url + '/predict?user=10'\n",
    "\n",
    "# Make the GET call\n",
    "getresp = requests.get(pred_url, headers=headers)\n",
    "print(getresp.text)"
   ]
  },
  {
   "cell_type": "markdown",
   "metadata": {},
   "source": [
    "Optionally, you can use the `ntopitems` parameter to specify the number of items you would like recommended."
   ]
  },
  {
   "cell_type": "code",
   "execution_count": 14,
   "metadata": {
    "collapsed": false
   },
   "outputs": [
    {
     "name": "stdout",
     "output_type": "stream",
     "text": [
      "{\n",
      "  \"item\": [\n",
      "    \"movieId_3030\", \n",
      "    \"movieId_67504\", \n",
      "    \"movieId_7013\", \n",
      "    \"movieId_83318\", \n",
      "    \"movieId_1217\"\n",
      "  ], \n",
      "  \"rating\": [\n",
      "    4.865910053253174, \n",
      "    4.811808109283447, \n",
      "    4.804734230041504, \n",
      "    4.8038649559021, \n",
      "    4.787838935852051\n",
      "  ]\n",
      "}\n",
      "\n"
     ]
    }
   ],
   "source": [
    "pred_url = url + '/predict?user=10&ntopitems=5'\n",
    "\n",
    "# Make the GET call\n",
    "getresp = requests.get(pred_url, headers=headers)\n",
    "print(getresp.text)"
   ]
  }
 ],
 "metadata": {
  "kernelspec": {
   "display_name": "Python 3",
   "language": "python",
   "name": "python3"
  },
  "language_info": {
   "codemirror_mode": {
    "name": "ipython",
    "version": 3
   },
   "file_extension": ".py",
   "mimetype": "text/x-python",
   "name": "python",
   "nbconvert_exporter": "python",
   "pygments_lexer": "ipython3",
   "version": "3.5.2"
  }
 },
 "nbformat": 4,
 "nbformat_minor": 2
}
