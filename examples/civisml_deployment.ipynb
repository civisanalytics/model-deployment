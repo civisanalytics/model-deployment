{
 "cells": [
  {
   "cell_type": "code",
   "execution_count": 1,
   "metadata": {
    "collapsed": true
   },
   "outputs": [],
   "source": [
    "# NOTE: you should be using version 1.8.X of the Civis API client\n",
    "import civis"
   ]
  },
  {
   "cell_type": "markdown",
   "metadata": {},
   "source": [
    "### First, make some toy data\n",
    "\n",
    "Let's suppose we want to make a model to determine whether an individual will likely be persuaded a particluar message. For each person in our (artificial) training data set, we have `age`, `gender`, and political `party` as features. We also have binary labels `msg` for whether or not the individual said they liked a message we showed them."
   ]
  },
  {
   "cell_type": "code",
   "execution_count": 2,
   "metadata": {
    "collapsed": true
   },
   "outputs": [],
   "source": [
    "from io import StringIO\n",
    "import pandas as pd\n",
    "data = 'age,gender,party,msg\\n20,M,other,1\\n25,M,D,0\\n30,F,D,0\\n40,M,R,1\\n50,F,D,0\\n60,M,other,1\\n65,F,R,0\\n70,F,D,1\\n80,M,R,1\\n'\n",
    "\n",
    "df = pd.read_csv(StringIO(data))"
   ]
  },
  {
   "cell_type": "markdown",
   "metadata": {},
   "source": [
    "The first five rows in our training data look like:"
   ]
  },
  {
   "cell_type": "code",
   "execution_count": 3,
   "metadata": {
    "collapsed": false
   },
   "outputs": [
    {
     "data": {
      "text/html": [
       "<div>\n",
       "<style>\n",
       "    .dataframe thead tr:only-child th {\n",
       "        text-align: right;\n",
       "    }\n",
       "\n",
       "    .dataframe thead th {\n",
       "        text-align: left;\n",
       "    }\n",
       "\n",
       "    .dataframe tbody tr th {\n",
       "        vertical-align: top;\n",
       "    }\n",
       "</style>\n",
       "<table border=\"1\" class=\"dataframe\">\n",
       "  <thead>\n",
       "    <tr style=\"text-align: right;\">\n",
       "      <th></th>\n",
       "      <th>age</th>\n",
       "      <th>gender</th>\n",
       "      <th>party</th>\n",
       "      <th>msg</th>\n",
       "    </tr>\n",
       "  </thead>\n",
       "  <tbody>\n",
       "    <tr>\n",
       "      <th>0</th>\n",
       "      <td>20</td>\n",
       "      <td>M</td>\n",
       "      <td>other</td>\n",
       "      <td>1</td>\n",
       "    </tr>\n",
       "    <tr>\n",
       "      <th>1</th>\n",
       "      <td>25</td>\n",
       "      <td>M</td>\n",
       "      <td>D</td>\n",
       "      <td>0</td>\n",
       "    </tr>\n",
       "    <tr>\n",
       "      <th>2</th>\n",
       "      <td>30</td>\n",
       "      <td>F</td>\n",
       "      <td>D</td>\n",
       "      <td>0</td>\n",
       "    </tr>\n",
       "    <tr>\n",
       "      <th>3</th>\n",
       "      <td>40</td>\n",
       "      <td>M</td>\n",
       "      <td>R</td>\n",
       "      <td>1</td>\n",
       "    </tr>\n",
       "    <tr>\n",
       "      <th>4</th>\n",
       "      <td>50</td>\n",
       "      <td>F</td>\n",
       "      <td>D</td>\n",
       "      <td>0</td>\n",
       "    </tr>\n",
       "  </tbody>\n",
       "</table>\n",
       "</div>"
      ],
      "text/plain": [
       "   age gender  party  msg\n",
       "0   20      M  other    1\n",
       "1   25      M      D    0\n",
       "2   30      F      D    0\n",
       "3   40      M      R    1\n",
       "4   50      F      D    0"
      ]
     },
     "execution_count": 3,
     "metadata": {},
     "output_type": "execute_result"
    }
   ],
   "source": [
    "df.head()"
   ]
  },
  {
   "cell_type": "markdown",
   "metadata": {},
   "source": [
    "### Next, let's build a model with CivisML\n",
    "\n",
    "Using CivisML, we can train a random forest classifier to predict the probability that future individuals will also respond positively to the message."
   ]
  },
  {
   "cell_type": "code",
   "execution_count": 4,
   "metadata": {
    "collapsed": true
   },
   "outputs": [],
   "source": [
    "mp = civis.ml.ModelPipeline(model='random_forest_classifier', dependent_variable='msg')\n",
    "_ = mp.train(df)"
   ]
  },
  {
   "cell_type": "code",
   "execution_count": 5,
   "metadata": {
    "collapsed": false
   },
   "outputs": [
    {
     "data": {
      "text/plain": [
       "11263303"
      ]
     },
     "execution_count": 5,
     "metadata": {},
     "output_type": "execute_result"
    }
   ],
   "source": [
    "mp.train_result_.train_job_id"
   ]
  },
  {
   "cell_type": "markdown",
   "metadata": {},
   "source": [
    "You can monitor the status of your training job on Platform:\n",
    "\n",
    "https://platform.civisanalytics.com/#/\n",
    "\n",
    "Your model must finish training before you can deploy it.  "
   ]
  },
  {
   "cell_type": "markdown",
   "metadata": {},
   "source": [
    "### We can deploy this model with two API calls\n",
    "\n",
    "When the model has finished training, we can create a service for deployment by passing the training job ID (`mp.train_result_.train_job_id`) as an environment variable to our CivisML model deployment Docker image. You can optionally pass in the training run ID as well (`mp.train_result_.train_run_id`); if no such run ID is provided, the most recent run is used by default. "
   ]
  },
  {
   "cell_type": "code",
   "execution_count": 6,
   "metadata": {
    "collapsed": true
   },
   "outputs": [],
   "source": [
    "client = civis.APIClient(resources='all')\n",
    "\n",
    "resp1 = client.services.post(\n",
    "    name='my_deployed_model',\n",
    "    docker_image_name=\"civisanalytics/model-deployment\",\n",
    "    cpu=800,\n",
    "    memory=8000, \n",
    "    environment_variables={'MODEL_JOB_ID': mp.train_result_.train_job_id, \n",
    "                           'DEBUG': 1}   # The \"DEBUG\" environment variable turns on verbose logging\n",
    ")"
   ]
  },
  {
   "cell_type": "markdown",
   "metadata": {},
   "source": [
    "The `DEBUG` environment variable ensures that our logs are verbose. You may want this turned off for models in production.\n",
    "\n",
    "Once we have created our service, we can start the deployment with the following API call:"
   ]
  },
  {
   "cell_type": "code",
   "execution_count": 7,
   "metadata": {
    "collapsed": true
   },
   "outputs": [],
   "source": [
    "resp2 = client.services.post_deployments(resp1['id'])"
   ]
  },
  {
   "cell_type": "markdown",
   "metadata": {},
   "source": [
    "It may take a minute or two for the deployment to start up, but once it does we can make requests from our model. You can monitor the logs of your deployment on Platform."
   ]
  },
  {
   "cell_type": "code",
   "execution_count": 8,
   "metadata": {
    "collapsed": false,
    "scrolled": true
   },
   "outputs": [
    {
     "name": "stdout",
     "output_type": "stream",
     "text": [
      "Platform page for your deployment: \n",
      "https://platform.civisanalytics.com/#/services/797\n"
     ]
    }
   ],
   "source": [
    "print(\"Platform page for your deployment: \")\n",
    "print(\"https://platform.civisanalytics.com/#/services/{}\".format(resp1['id']))"
   ]
  },
  {
   "cell_type": "markdown",
   "metadata": {},
   "source": [
    "You can find the logs under the \"Deployment History\" link towards the upper right-hand side of the screen. When the logs say \"_Application successfully changed to ready state_\" you're ready to make calls."
   ]
  },
  {
   "cell_type": "markdown",
   "metadata": {},
   "source": [
    "### Let's make some calls to our model!\n",
    "\n",
    "First, we'll need to get the model's URL and an access token. Once we have those, we can use python's `requests` library to make some simple RESTful calls. "
   ]
  },
  {
   "cell_type": "code",
   "execution_count": 9,
   "metadata": {
    "collapsed": false
   },
   "outputs": [
    {
     "name": "stdout",
     "output_type": "stream",
     "text": [
      "https://services--797--7ea03ac7669ac0a50bf15955--civis.shiny.services.civis.io\n"
     ]
    }
   ],
   "source": [
    "url = client.services.get(resp1['id'])['current_url']\n",
    "print(url)"
   ]
  },
  {
   "cell_type": "code",
   "execution_count": 10,
   "metadata": {
    "collapsed": true
   },
   "outputs": [],
   "source": [
    "token_resp = client.services.post_tokens(resp1['id'], 'keiths_token')"
   ]
  },
  {
   "cell_type": "markdown",
   "metadata": {},
   "source": [
    "We can get predictions from our model by passing covariates as query parameters to the `/predict` endpoint and making a GET call:"
   ]
  },
  {
   "cell_type": "code",
   "execution_count": 13,
   "metadata": {
    "collapsed": false
   },
   "outputs": [
    {
     "name": "stdout",
     "output_type": "stream",
     "text": [
      "{\n",
      "  \"msg_0\": [\n",
      "    0.936\n",
      "  ], \n",
      "  \"msg_1\": [\n",
      "    0.064\n",
      "  ]\n",
      "}\n",
      "\n"
     ]
    }
   ],
   "source": [
    "import requests\n",
    "\n",
    "# Put the token in the header of the HTTP call\n",
    "headers = {\"Authorization\": \"Bearer {}\".format(token_resp['token'])}\n",
    "# Pass your model covariates as query parameters\n",
    "pred_url = url + '/predict?age=30&gender=F&party=D'\n",
    "\n",
    "# Make the GET call\n",
    "resp = requests.get(pred_url, headers=headers)\n",
    "print(resp.text)"
   ]
  },
  {
   "cell_type": "markdown",
   "metadata": {},
   "source": [
    "Look: a prediction! Predictions are returned as JSON dictionaries. \n",
    "\n",
    "Instead of passing our access token through the HTTP header, we can optionally pass it as a query parameter using the `civis_service_token` keyword:"
   ]
  },
  {
   "cell_type": "code",
   "execution_count": 14,
   "metadata": {
    "collapsed": false
   },
   "outputs": [
    {
     "name": "stdout",
     "output_type": "stream",
     "text": [
      "{\n",
      "  \"msg_0\": [\n",
      "    0.936\n",
      "  ], \n",
      "  \"msg_1\": [\n",
      "    0.064\n",
      "  ]\n",
      "}\n",
      "\n"
     ]
    }
   ],
   "source": [
    "pred_url = url + '/predict?age=30&gender=F&party=D&civis_service_token=' + token_resp['token']\n",
    "\n",
    "# Make the GET call, no headers necessary\n",
    "resp = requests.get(pred_url)\n",
    "print(resp.text)"
   ]
  },
  {
   "cell_type": "markdown",
   "metadata": {},
   "source": [
    "### Model GUI\n",
    "\n",
    "Go to your model's deployment page:"
   ]
  },
  {
   "cell_type": "code",
   "execution_count": 15,
   "metadata": {
    "collapsed": false
   },
   "outputs": [
    {
     "name": "stdout",
     "output_type": "stream",
     "text": [
      "https://platform.civisanalytics.com/#/services/797\n"
     ]
    }
   ],
   "source": [
    "print(\"https://platform.civisanalytics.com/#/services/{}\".format(resp1['id']))"
   ]
  },
  {
   "cell_type": "markdown",
   "metadata": {},
   "source": [
    "Clicking on the \"View Report\" button towards the upper right-hand side of the screen will take you to a web form where you can enter model covariates and get predictions interactively. Try it!"
   ]
  }
 ],
 "metadata": {
  "kernelspec": {
   "display_name": "Python 3",
   "language": "python",
   "name": "python3"
  },
  "language_info": {
   "codemirror_mode": {
    "name": "ipython",
    "version": 3
   },
   "file_extension": ".py",
   "mimetype": "text/x-python",
   "name": "python",
   "nbconvert_exporter": "python",
   "pygments_lexer": "ipython3",
   "version": "3.5.2"
  }
 },
 "nbformat": 4,
 "nbformat_minor": 2
}
