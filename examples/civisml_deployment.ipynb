{
 "cells": [
  {
   "cell_type": "markdown",
   "metadata": {},
   "source": [
    "# Model Deployment with CivisML\n",
    "\n",
    "If you are familiar with scikit-learn and/or CivisML, deploying machine learning models in Python can now be done in Civis Platform with just a couple of API calls. This notebook will walk you through the following steps:\n",
    "\n",
    "1. Training a model on some toy data in CivisML,\n",
    "2. Deploying that model as a web service on Civis Platform,\n",
    "3. Getting the URL and an access token for your deployed model, and\n",
    "4. Making requests of your now-deployed model. \n",
    "\n",
    "By executing the code in the cells below, you will be able to get predictions from a deployed model in about 5 minutes. "
   ]
  },
  {
   "cell_type": "code",
   "execution_count": null,
   "metadata": {
    "collapsed": true
   },
   "outputs": [],
   "source": [
    "# NOTE: you should be using version 1.8.X or 1.9.X of the Civis API client\n",
    "import civis"
   ]
  },
  {
   "cell_type": "markdown",
   "metadata": {},
   "source": [
    "### First, make some toy data\n",
    "\n",
    "Let's suppose we want to make a model to determine whether an individual will likely be persuaded a particluar message. For each person in our (artificial) training data set, we have `age`, `gender`, and political `party` as features. We also have binary labels `msg` for whether or not the individual said they liked a message we showed them."
   ]
  },
  {
   "cell_type": "code",
   "execution_count": null,
   "metadata": {
    "collapsed": true
   },
   "outputs": [],
   "source": [
    "from io import StringIO\n",
    "import pandas as pd\n",
    "data = 'age,gender,party,msg\\n20,M,other,1\\n25,M,D,0\\n30,F,D,0\\n40,M,R,1\\n50,F,D,0\\n60,M,other,1\\n65,F,R,0\\n70,F,D,1\\n80,M,R,1\\n'\n",
    "\n",
    "df = pd.read_csv(StringIO(data))"
   ]
  },
  {
   "cell_type": "markdown",
   "metadata": {},
   "source": [
    "The first five rows in our training data look like:"
   ]
  },
  {
   "cell_type": "code",
   "execution_count": null,
   "metadata": {
    "collapsed": false
   },
   "outputs": [],
   "source": [
    "df.head()"
   ]
  },
  {
   "cell_type": "markdown",
   "metadata": {},
   "source": [
    "### Next, let's build a model with CivisML\n",
    "\n",
    "Using CivisML, we can train a random forest classifier to predict the probability that future individuals will also respond positively to the message."
   ]
  },
  {
   "cell_type": "code",
   "execution_count": null,
   "metadata": {
    "collapsed": true
   },
   "outputs": [],
   "source": [
    "mp = civis.ml.ModelPipeline(model='random_forest_classifier', dependent_variable='msg')\n",
    "_ = mp.train(df)"
   ]
  },
  {
   "cell_type": "code",
   "execution_count": null,
   "metadata": {
    "collapsed": false
   },
   "outputs": [],
   "source": [
    "mp.train_result_.train_job_id"
   ]
  },
  {
   "cell_type": "markdown",
   "metadata": {},
   "source": [
    "You can monitor the status of your training job on Platform:\n",
    "\n",
    "https://platform.civisanalytics.com/#/\n",
    "\n",
    "Your model must finish training before you can deploy it.  "
   ]
  },
  {
   "cell_type": "markdown",
   "metadata": {},
   "source": [
    "### We can deploy this model with two API calls\n",
    "\n",
    "When the model has finished training, we can create a service for deployment by passing the training job ID (`mp.train_result_.train_job_id`) as an environment variable to our CivisML model deployment Docker image. You can optionally pass in the training run ID as well (`mp.train_result_.train_run_id`); if no such run ID is provided, the most recent run is used by default. "
   ]
  },
  {
   "cell_type": "code",
   "execution_count": null,
   "metadata": {
    "collapsed": false
   },
   "outputs": [],
   "source": [
    "client = civis.APIClient(resources='all')\n",
    "\n",
    "# The version of the Civis API client with which we trained our model determines which\n",
    "# Docker image we should use. \n",
    "civ_minor_version = '.'.join(civis.__version__.split('.')[:2])\n",
    "if civ_minor_version == '1.9':\n",
    "    image_tag = '1.1'\n",
    "elif civ_minor_version == '1.8':\n",
    "    image_tag = '1.0'\n",
    "else:\n",
    "    print(\"WARNING: Your model may not properly deploy. Your version of the Civis \"\n",
    "          \"API client is {}, but it should be either v1.8 or 1.9!\".format(civis.__version__))\n",
    "    image_tag = '1.0'\n",
    "\n",
    "resp = client.services.post(\n",
    "    name='my_deployed_model',\n",
    "    docker_image_name=\"civisanalytics/model-deployment\",\n",
    "    docker_image_tag=image_tag,\n",
    "    cpu=1000,\n",
    "    memory=8000, \n",
    "    environment_variables={'MODEL_JOB_ID': mp.train_result_.train_job_id, \n",
    "                           'DEBUG': 1}   # The optional \"DEBUG\" environment variable turns on verbose logging\n",
    ")"
   ]
  },
  {
   "cell_type": "markdown",
   "metadata": {},
   "source": [
    "The `DEBUG` environment variable ensures that our logs are verbose. You may want this turned off for models in production.\n",
    "\n",
    "Once we have created our service, we can start the deployment with the following API call:"
   ]
  },
  {
   "cell_type": "code",
   "execution_count": null,
   "metadata": {
    "collapsed": true
   },
   "outputs": [],
   "source": [
    "_ = client.services.post_deployments(resp['id'])"
   ]
  },
  {
   "cell_type": "markdown",
   "metadata": {},
   "source": [
    "It may take a minute or two for the deployment to start up, but once it does we can make requests from our model. You can monitor the logs of your deployment on Platform."
   ]
  },
  {
   "cell_type": "code",
   "execution_count": null,
   "metadata": {
    "collapsed": false,
    "scrolled": true
   },
   "outputs": [],
   "source": [
    "print(\"Platform page for your deployment: \")\n",
    "print(\"https://platform.civisanalytics.com/#/services/{}\".format(resp['id']))"
   ]
  },
  {
   "cell_type": "markdown",
   "metadata": {},
   "source": [
    "You can find the logs under the \"Deployment History\" link towards the upper right-hand side of the screen. When the logs say \"_Application successfully changed to ready state_\" you're ready to make calls."
   ]
  },
  {
   "cell_type": "markdown",
   "metadata": {},
   "source": [
    "### Let's get some predictions from our model!\n",
    "\n",
    "First, we'll need to get the model's URL and an access token. Once we have those, we can use python's `requests` library to make some simple RESTful calls. "
   ]
  },
  {
   "cell_type": "code",
   "execution_count": null,
   "metadata": {
    "collapsed": false
   },
   "outputs": [],
   "source": [
    "url = client.services.get(resp['id'])['current_url']\n",
    "print(url)"
   ]
  },
  {
   "cell_type": "code",
   "execution_count": null,
   "metadata": {
    "collapsed": true
   },
   "outputs": [],
   "source": [
    "token_resp = client.services.post_tokens(resp['id'], 'keiths_token')"
   ]
  },
  {
   "cell_type": "markdown",
   "metadata": {},
   "source": [
    "We can get predictions from our model by passing covariates as query parameters to the `/predict` endpoint and making a GET call:"
   ]
  },
  {
   "cell_type": "code",
   "execution_count": null,
   "metadata": {
    "collapsed": false
   },
   "outputs": [],
   "source": [
    "import requests\n",
    "\n",
    "# Put the token in the header of the HTTP call\n",
    "headers = {\"Authorization\": \"Bearer {}\".format(token_resp['token'])}\n",
    "# Pass your model covariates as query parameters\n",
    "pred_url = url + '/predict?age=30&gender=F&party=D'\n",
    "\n",
    "# Make the GET call\n",
    "getresp = requests.get(pred_url, headers=headers)\n",
    "print(getresp.text)"
   ]
  },
  {
   "cell_type": "markdown",
   "metadata": {},
   "source": [
    "Look: a prediction! Predictions are returned as JSON dictionaries. \n",
    "\n",
    "Instead of passing our access token through the HTTP header, we can optionally pass it as a query parameter using the `civis_service_token` keyword:"
   ]
  },
  {
   "cell_type": "code",
   "execution_count": null,
   "metadata": {
    "collapsed": false
   },
   "outputs": [],
   "source": [
    "pred_url = url + '/predict?age=30&gender=F&party=D&civis_service_token=' + token_resp['token']\n",
    "\n",
    "# Make the GET call, no headers necessary\n",
    "getresp = requests.get(pred_url)\n",
    "print(getresp.text)"
   ]
  },
  {
   "cell_type": "markdown",
   "metadata": {},
   "source": [
    "### Model GUI\n",
    "\n",
    "Go to your model's deployment page:"
   ]
  },
  {
   "cell_type": "code",
   "execution_count": null,
   "metadata": {
    "collapsed": false
   },
   "outputs": [],
   "source": [
    "print(\"https://platform.civisanalytics.com/#/services/{}\".format(resp['id']))"
   ]
  },
  {
   "cell_type": "markdown",
   "metadata": {},
   "source": [
    "Clicking on the \"View Report\" button towards the upper right-hand side of the screen will take you to a web form where you can enter model covariates and get predictions interactively. Try it!"
   ]
  }
 ],
 "metadata": {
  "kernelspec": {
   "display_name": "Python 3",
   "language": "python",
   "name": "python3"
  },
  "language_info": {
   "codemirror_mode": {
    "name": "ipython",
    "version": 3
   },
   "file_extension": ".py",
   "mimetype": "text/x-python",
   "name": "python",
   "nbconvert_exporter": "python",
   "pygments_lexer": "ipython3",
   "version": "3.5.2"
  }
 },
 "nbformat": 4,
 "nbformat_minor": 2
}
